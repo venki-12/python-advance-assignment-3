{
 "cells": [
  {
   "cell_type": "code",
   "execution_count": 1,
   "metadata": {},
   "outputs": [],
   "source": [
    "#What is the concept of an abstract superclass?\n",
    "#it allows you to create a set of methods that must be created within any child classes built from the abstract class.\n",
    "#This capability is especially useful in situations where a third-party is going to provide implementations, such as with plugins,"
   ]
  },
  {
   "cell_type": "code",
   "execution_count": 2,
   "metadata": {},
   "outputs": [],
   "source": [
    "#Why does a class need to manually call a superclass's __init__ method?\n",
    "\n",
    "#The main purpose of it is to enable you to call a method from the parent when you have provided an override to that method within the child class"
   ]
  },
  {
   "cell_type": "code",
   "execution_count": 3,
   "metadata": {},
   "outputs": [],
   "source": [
    "# How can you augment instead of completely replacing inherited method?\n",
    "#A subclass can either completely override the implementation for an inherited method or the subclass can enhance the method by adding functionality to it\n",
    "#To completely replace a superclass's method implementation, simply name your method the same as the superclass method\n",
    "#"
   ]
  },
  {
   "cell_type": "code",
   "execution_count": null,
   "metadata": {},
   "outputs": [],
   "source": [
    "#How is the local scope of a class different from that of a function?\n",
    "#Names of class members have class scope, which extends throughout the class definition regardless of the point of declaration. Class member accessibility is further controlled by the public, private, and protected keywords.\n",
    "#Public or protected members can be accessed only by using the member-selection operators \n",
    "# but there is no this kind in function"
   ]
  }
 ],
 "metadata": {
  "kernelspec": {
   "display_name": "Python 3",
   "language": "python",
   "name": "python3"
  },
  "language_info": {
   "codemirror_mode": {
    "name": "ipython",
    "version": 3
   },
   "file_extension": ".py",
   "mimetype": "text/x-python",
   "name": "python",
   "nbconvert_exporter": "python",
   "pygments_lexer": "ipython3",
   "version": "3.8.5"
  }
 },
 "nbformat": 4,
 "nbformat_minor": 4
}
